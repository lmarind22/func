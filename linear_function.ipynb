{
 "cells": [
  {
   "cell_type": "markdown",
   "id": "def4b196-9dd7-4d34-a87c-491f6d709f31",
   "metadata": {},
   "source": [
    "# Linear Function #"
   ]
  },
  {
   "cell_type": "markdown",
   "id": "04ed30c6-86bc-4871-a1e5-f0f836f1adb5",
   "metadata": {},
   "source": [
    "Move the sliders and change the parameters of the linear function and visualize"
   ]
  },
  {
   "cell_type": "code",
   "execution_count": 3,
   "id": "60714181-e3eb-4741-95dc-a19717c23bc4",
   "metadata": {},
   "outputs": [
    {
     "data": {
      "application/vnd.jupyter.widget-view+json": {
       "model_id": "6a716c0153004ccfad3e7b3aaa7efd01",
       "version_major": 2,
       "version_minor": 0
      },
      "text/plain": [
       "interactive(children=(FloatSlider(value=1.0, description='Pendiente (m)', max=10.0, min=-10.0), FloatSlider(va…"
      ]
     },
     "metadata": {},
     "output_type": "display_data"
    },
    {
     "data": {
      "text/plain": [
       "<function __main__.graficar_funcion_lineal(m=1.0, b=0.0, xlim=(-10, 10), ylim=(-10, 10))>"
      ]
     },
     "execution_count": 3,
     "metadata": {},
     "output_type": "execute_result"
    }
   ],
   "source": [
    "import matplotlib.pyplot as plt\n",
    "import numpy as np\n",
    "from ipywidgets import interact, FloatSlider, FloatRangeSlider\n",
    "\n",
    "# Define la función lineal\n",
    "def funcion_lineal(x, m, b):\n",
    "    return m * x + b\n",
    "\n",
    "# Función para graficar la función lineal con widgets interactivos\n",
    "def graficar_funcion_lineal(m=1.0, b=0.0, xlim=(-10, 10), ylim=(-10, 10)):\n",
    "    x = np.linspace(xlim[0], xlim[1], 400)\n",
    "    y = funcion_lineal(x, m, b)\n",
    "    \n",
    "    plt.figure(figsize=(10,6))\n",
    "    plt.plot(x, y, '-r', label=f'y = {m}x + {b}')\n",
    "    plt.axhline(0, color='black',linewidth=0.5)\n",
    "    plt.axvline(0, color='black',linewidth=0.5)\n",
    "    plt.xlim(xlim)\n",
    "    plt.ylim(ylim)\n",
    "    plt.title('Gráfico de la Función Lineal')\n",
    "    plt.xlabel('x')\n",
    "    plt.ylabel('y')\n",
    "    plt.legend(loc='upper left')\n",
    "    plt.grid(color = 'gray', linestyle = '--', linewidth = 0.5)\n",
    "    plt.show()\n",
    "\n",
    "# Crea widgets interactivos\n",
    "interact(graficar_funcion_lineal,\n",
    "         m=FloatSlider(min=-10, max=10, step=0.1, value=1.0, description='Pendiente (m)'),\n",
    "         b=FloatSlider(min=-10, max=10, step=0.1, value=0.0, description='Intercepto (b)'),\n",
    "         xlim=FloatRangeSlider(value=[-15, 15], min=-50, max=50, step=1, description='Eje x'),\n",
    "         ylim=FloatRangeSlider(value=[-10, 10], min=-50, max=50, step=1, description='Eje y'))\n"
   ]
  },
  {
   "cell_type": "code",
   "execution_count": null,
   "id": "76306949-514e-43a0-9219-d9a3304468fc",
   "metadata": {},
   "outputs": [],
   "source": []
  }
 ],
 "metadata": {
  "kernelspec": {
   "display_name": "Python 3 (ipykernel)",
   "language": "python",
   "name": "python3"
  },
  "language_info": {
   "codemirror_mode": {
    "name": "ipython",
    "version": 3
   },
   "file_extension": ".py",
   "mimetype": "text/x-python",
   "name": "python",
   "nbconvert_exporter": "python",
   "pygments_lexer": "ipython3",
   "version": "3.11.5"
  }
 },
 "nbformat": 4,
 "nbformat_minor": 5
}
